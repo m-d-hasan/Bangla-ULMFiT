{
 "cells": [
  {
   "cell_type": "markdown",
   "metadata": {
    "colab": {},
    "colab_type": "code",
    "id": "fs_cJ0LhF6Oi"
   },
   "source": [
    "# BANGLA ULMFiT\n",
    "\n",
    "I traine the UMLFiT using Bangla Wikipeadia dataset. Download the pretrained model from </br> \n",
    "\n",
    "1. LM data: https://drive.google.com/open?id=1ZIScuM4y05iIkdQRfTpDPhrYehTK-h8I\n",
    "2. vocab:   https://drive.google.com/open?id=1-Aur8KYwmFmhfhc-tzsX01Dt8elochn8\n",
    "3. Model: https://drive.google.com/open?id=1-8vRoAmrysIRvuE8MW7Bc_j3UlLsN-AM\n",
    "4. Model enc: https://drive.google.com/open?id=1-ADxDVaFc4blwQq1F9WbWGold0Irsymy\n",
    "\n"
   ]
  },
  {
   "cell_type": "code",
   "execution_count": 6,
   "metadata": {
    "colab": {
     "base_uri": "https://localhost:8080/",
     "height": 102
    },
    "colab_type": "code",
    "executionInfo": {
     "elapsed": 6968,
     "status": "ok",
     "timestamp": 1572296596768,
     "user": {
      "displayName": "Md. Hasan 1610023642",
      "photoUrl": "https://lh3.googleusercontent.com/a-/AAuE7mD4y_wk6VNcvpy_XacxkTUQsAEltFCGwGJatYSr=s64",
      "userId": "18431496475692018632"
     },
     "user_tz": -360
    },
    "id": "NWX86cfNIcRn",
    "outputId": "8ac94027-c295-4b71-fd42-cdfed5367f10"
   },
   "outputs": [
    {
     "name": "stdout",
     "output_type": "stream",
     "text": [
      "  % Total    % Received % Xferd  Average Speed   Time    Time     Time  Current\n",
      "                                 Dload  Upload   Total   Spent    Left  Speed\n",
      "\r",
      "  0     0    0     0    0     0      0      0 --:--:-- --:--:-- --:--:--     0\r",
      "100   322  100   322    0     0   4735      0 --:--:-- --:--:-- --:--:--  4735\n",
      "Updating fastai...\n",
      "Done.\n"
     ]
    }
   ],
   "source": [
    "!curl https://course.fast.ai/setup/colab | bash"
   ]
  },
  {
   "cell_type": "markdown",
   "metadata": {
    "colab_type": "text",
    "id": "RMU2sQuFElZx"
   },
   "source": [
    "**Importing Packasges**"
   ]
  },
  {
   "cell_type": "code",
   "execution_count": 1,
   "metadata": {
    "colab": {},
    "colab_type": "code",
    "id": "0kPk0-GPLvPM"
   },
   "outputs": [],
   "source": [
    "import os\n",
    "import torch\n",
    "import pickle\n",
    "from fastai.text import *\n",
    "from tqdm import tqdm_notebook\n",
    "\n",
    "%reload_ext autoreload\n",
    "%autoreload 2\n",
    "%matplotlib inline"
   ]
  },
  {
   "cell_type": "code",
   "execution_count": 2,
   "metadata": {
    "colab": {},
    "colab_type": "code",
    "id": "5ZIDwITpMV2V"
   },
   "outputs": [],
   "source": [
    "if torch.cuda.is_available():\n",
    "    torch.cuda.set_device(0)"
   ]
  },
  {
   "cell_type": "markdown",
   "metadata": {
    "colab_type": "text",
    "id": "_iUi8JHLE4XG"
   },
   "source": [
    "### Dataset\n",
    "The pickle file contain a list of bangla sentence."
   ]
  },
  {
   "cell_type": "code",
   "execution_count": 0,
   "metadata": {
    "colab": {},
    "colab_type": "code",
    "id": "N8hVsBwUMbpJ"
   },
   "outputs": [],
   "source": [
    "path = \"/wiki.pickle\"\n",
    "with open(path,\"rb\") as f:\n",
    "      data = pickle.load(f)"
   ]
  },
  {
   "cell_type": "code",
   "execution_count": 26,
   "metadata": {
    "colab": {
     "base_uri": "https://localhost:8080/",
     "height": 34
    },
    "colab_type": "code",
    "executionInfo": {
     "elapsed": 3700,
     "status": "ok",
     "timestamp": 1572297358724,
     "user": {
      "displayName": "Md. Hasan 1610023642",
      "photoUrl": "https://lh3.googleusercontent.com/a-/AAuE7mD4y_wk6VNcvpy_XacxkTUQsAEltFCGwGJatYSr=s64",
      "userId": "18431496475692018632"
     },
     "user_tz": -360
    },
    "id": "Kv00eDVUNzSc",
    "outputId": "a172624b-930b-4f55-f2f4-0f90cd36e399"
   },
   "outputs": [
    {
     "data": {
      "text/plain": [
       "20306555"
      ]
     },
     "execution_count": 26,
     "metadata": {
      "tags": []
     },
     "output_type": "execute_result"
    }
   ],
   "source": [
    "sum(len(t.split()) for t in data)\n"
   ]
  },
  {
   "cell_type": "code",
   "execution_count": 28,
   "metadata": {
    "colab": {
     "base_uri": "https://localhost:8080/",
     "height": 34
    },
    "colab_type": "code",
    "executionInfo": {
     "elapsed": 1299,
     "status": "ok",
     "timestamp": 1572297378344,
     "user": {
      "displayName": "Md. Hasan 1610023642",
      "photoUrl": "https://lh3.googleusercontent.com/a-/AAuE7mD4y_wk6VNcvpy_XacxkTUQsAEltFCGwGJatYSr=s64",
      "userId": "18431496475692018632"
     },
     "user_tz": -360
    },
    "id": "CnL3HvX4OUYm",
    "outputId": "5f629c89-fc21-407f-d806-f14af752da9e"
   },
   "outputs": [
    {
     "data": {
      "text/plain": [
       "(1433306, 1)"
      ]
     },
     "execution_count": 28,
     "metadata": {
      "tags": []
     },
     "output_type": "execute_result"
    }
   ],
   "source": [
    "texts = pd.DataFrame(data)\n",
    "\n",
    "texts.shape"
   ]
  },
  {
   "cell_type": "code",
   "execution_count": 0,
   "metadata": {
    "colab": {},
    "colab_type": "code",
    "id": "FeE8Tv0eOeBc"
   },
   "outputs": [],
   "source": [
    "bs = 64"
   ]
  },
  {
   "cell_type": "code",
   "execution_count": 0,
   "metadata": {
    "colab": {},
    "colab_type": "code",
    "id": "duJJRwkjOkxA"
   },
   "outputs": [],
   "source": [
    "data = TextList.from_df(texts, \n",
    "                        processor=[TokenizeProcessor(tokenizer=Tokenizer(lang=\"xx\")), \n",
    "                                                     NumericalizeProcessor(min_freq=2, max_vocab=60000)]).\\\n",
    "                random_split_by_pct(.1).\\\n",
    "                label_for_lm().\\\n",
    "                databunch(bs=bs)"
   ]
  },
  {
   "cell_type": "code",
   "execution_count": 31,
   "metadata": {
    "colab": {
     "base_uri": "https://localhost:8080/",
     "height": 408
    },
    "colab_type": "code",
    "executionInfo": {
     "elapsed": 630144,
     "status": "ok",
     "timestamp": 1572298193592,
     "user": {
      "displayName": "Md. Hasan 1610023642",
      "photoUrl": "https://lh3.googleusercontent.com/a-/AAuE7mD4y_wk6VNcvpy_XacxkTUQsAEltFCGwGJatYSr=s64",
      "userId": "18431496475692018632"
     },
     "user_tz": -360
    },
    "id": "njVz97fGOm3O",
    "outputId": "ee450abf-72ca-4471-d78e-8442e6395ddc"
   },
   "outputs": [
    {
     "data": {
      "text/html": [
       "<table border=\"1\" class=\"dataframe\">\n",
       "  <thead>\n",
       "    <tr style=\"text-align: right;\">\n",
       "      <th>idx</th>\n",
       "      <th>text</th>\n",
       "    </tr>\n",
       "  </thead>\n",
       "  <tbody>\n",
       "    <tr>\n",
       "      <td>0</td>\n",
       "      <td>হিসেবে নির্বাচনে অংশগ্রহণ করেছিল xxbos পরবর্তীতে রাজনৈতিক অস্থিরতা এমন ছিল যে ১৯৮৮ সাল পর্যন্ত কোন নির্বাচন সংঘটিত হয়নি xxbos ব্রিটিশ ঔপনিবেশিক যুগে এডেনের উপনিবেশে একটি আইন পরিষদের জন্য নির্বাচন অনুষ্ঠিত হয়েছিল xxbos প্রথম নির্বাচনটি ১৯৫৫ সালে অনুষ্ঠিত হয়েছিল যদিও ১৮টি আসনের মধ্যে মাত্র ৪টি আসনেই ভোটাধিকার সীমাবদ্ধ ছিল xxbos ১৯৫৯ সালের পরবর্তী নির্বাচনে ২৩টি আসনের মধ্যে ১২টি আসনে নির্বাচন হয়েছিল xxbos এই নির্বাচনেও ভোটাধিকারের উপর ক্রমাগতভাবে বিধিনিষেধ আরোপ ছিল ১৮</td>\n",
       "    </tr>\n",
       "    <tr>\n",
       "      <td>1</td>\n",
       "      <td>২৫ বছর বয়স হতে হবে xxbos ১৯৯০ সালে একীকরণের পর ১৯৯১ সালে নতুন সংবিধানের জন্য একটি গণভোট অনুষ্ঠিত হয় যা ৯৮৫ ভোটার দ্বারা অনুমোদিত হয়েছিল xxbos রাষ্ট্রপতি পদ্ধতির কাঠামোর মাধ্যমে ইয়েমেনের নির্বাচন সংঘটিত হয় xxbos রাষ্ট্রপতি ও হাউস অব রিপ্রেজেনটেটিভস উভয়ই জনসাধারণের দ্বারা নির্বাচিত হন xxbos উত্তর ইয়েমেনের গৃহযুদ্ধ এবং ইয়েমেন আরব প্রজাতন্ত্র প্রতিষ্ঠার পর ১৯৭০ সালে একটি নতুন সংবিধান কার্যকর হয় এবং ১৯৭১ সালে প্রথম সংসদীয় নির্বাচন অনুষ্ঠিত হয়</td>\n",
       "    </tr>\n",
       "    <tr>\n",
       "      <td>2</td>\n",
       "      <td>রিপ্রেজেনটেটিভস প্রার্থীদের অন্তত ২৫ বছর বয়স হতে হবে xxbos ১৯৯০ সালে একীকরণের পর ১৯৯১ সালে নতুন সংবিধানের জন্য একটি গণভোট অনুষ্ঠিত হয় যা ৯৮৫ ভোটার দ্বারা অনুমোদিত হয়েছিল xxbos ২০০১ সালে আরেকটি সাংবিধানিক গণভোটের মাধ্যমে ৭৭ ভোটার সংবিধানে পরিবর্তন আনার জন্য অনুমোদন দিয়েছিল xxbos রাষ্ট্রপতি পদ্ধতির কাঠামোর মাধ্যমে ইয়েমেনের নির্বাচন সংঘটিত হয় xxbos রাষ্ট্রপতি ও হাউস অব রিপ্রেজেনটেটিভস উভয়ই জনসাধারণের দ্বারা নির্বাচিত হন xxbos রাজনৈতিক অস্থিতিশীলতার কারণে ২০০০এর দশকের প্রথম</td>\n",
       "    </tr>\n",
       "    <tr>\n",
       "      <td>3</td>\n",
       "      <td>বছর বয়সী হলে ভোট দেয়ার জন্য উপযুক্ত হন তবে হাউস অব রিপ্রেজেনটেটিভস প্রার্থীদের অন্তত ২৫ বছর বয়স হতে হবে xxbos ১৯৯০ সালে একীকরণের পর ১৯৯১ সালে নতুন সংবিধানের জন্য একটি গণভোট অনুষ্ঠিত হয় যা ৯৮৫ ভোটার দ্বারা অনুমোদিত হয়েছিল xxbos ২০০১ সালে আরেকটি সাংবিধানিক গণভোটের মাধ্যমে ৭৭ ভোটার সংবিধানে পরিবর্তন আনার জন্য অনুমোদন দিয়েছিল xxbos রাষ্ট্রপতি পদ্ধতির কাঠামোর মাধ্যমে ইয়েমেনের নির্বাচন সংঘটিত হয় xxbos রাষ্ট্রপতি ও হাউস অব রিপ্রেজেনটেটিভস উভয়ই</td>\n",
       "    </tr>\n",
       "    <tr>\n",
       "      <td>4</td>\n",
       "      <td>প্রেরণ করা হয় xxbos হাউস অব রিপ্রেজেনটেটিভের ৩০১ সদস্য ফার্স্টপাস্ট পোস্টসিস্টেম ব্যবহার করে একসদস্যের একক অঞ্চলে ছয় বছরের মেয়াদে নির্বাচিত হয় xxbos একজন ব্যক্তি ১৮ বছর বয়সী হলে ভোট দেয়ার জন্য উপযুক্ত হন তবে হাউস অব রিপ্রেজেনটেটিভস প্রার্থীদের অন্তত ২৫ বছর বয়স হতে হবে xxbos ১৯৯০ সালে একীকরণের পর ১৯৯১ সালে নতুন সংবিধানের জন্য একটি গণভোট অনুষ্ঠিত হয় যা ৯৮৫ ভোটার দ্বারা অনুমোদিত হয়েছিল xxbos ২০০১ সালে আরেকটি সাংবিধানিক গণভোটের</td>\n",
       "    </tr>\n",
       "  </tbody>\n",
       "</table>"
      ],
      "text/plain": [
       "<IPython.core.display.HTML object>"
      ]
     },
     "metadata": {
      "tags": []
     },
     "output_type": "display_data"
    }
   ],
   "source": [
    "data.show_batch()"
   ]
  },
  {
   "cell_type": "code",
   "execution_count": 0,
   "metadata": {
    "colab": {},
    "colab_type": "code",
    "id": "LwvUS3PiPNzV"
   },
   "outputs": [],
   "source": [
    "save_path = \"./data/\"\n",
    "data.save(save_path+\"lm_data\")\n",
    "#data.vocab.itos\n",
    "data.save(save_path+\"vocab\")"
   ]
  },
  {
   "cell_type": "code",
   "execution_count": 0,
   "metadata": {
    "colab": {},
    "colab_type": "code",
    "id": "qKMWxSgxR6vf"
   },
   "outputs": [],
   "source": [
    "language_model_learner()"
   ]
  },
  {
   "cell_type": "code",
   "execution_count": 0,
   "metadata": {
    "colab": {},
    "colab_type": "code",
    "id": "TvpSKh8kPUTq"
   },
   "outputs": [],
   "source": [
    "learn = language_model_learner(data, AWD_LSTM, pretrained=None)\n",
    "learn.unfreeze()"
   ]
  },
  {
   "cell_type": "code",
   "execution_count": 36,
   "metadata": {
    "colab": {
     "base_uri": "https://localhost:8080/",
     "height": 34
    },
    "colab_type": "code",
    "executionInfo": {
     "elapsed": 87836,
     "status": "ok",
     "timestamp": 1572298467609,
     "user": {
      "displayName": "Md. Hasan 1610023642",
      "photoUrl": "https://lh3.googleusercontent.com/a-/AAuE7mD4y_wk6VNcvpy_XacxkTUQsAEltFCGwGJatYSr=s64",
      "userId": "18431496475692018632"
     },
     "user_tz": -360
    },
    "id": "RHolEXPpRmwL",
    "outputId": "43a13f22-c451-436b-9791-b76dea69cbcf"
   },
   "outputs": [
    {
     "data": {
      "text/html": [],
      "text/plain": [
       "<IPython.core.display.HTML object>"
      ]
     },
     "metadata": {
      "tags": []
     },
     "output_type": "display_data"
    },
    {
     "name": "stdout",
     "output_type": "stream",
     "text": [
      "LR Finder is complete, type {learner_name}.recorder.plot() to see the graph.\n"
     ]
    }
   ],
   "source": [
    "learn.lr_find()"
   ]
  },
  {
   "cell_type": "code",
   "execution_count": 37,
   "metadata": {
    "colab": {
     "base_uri": "https://localhost:8080/",
     "height": 279
    },
    "colab_type": "code",
    "executionInfo": {
     "elapsed": 85099,
     "status": "ok",
     "timestamp": 1572298468952,
     "user": {
      "displayName": "Md. Hasan 1610023642",
      "photoUrl": "https://lh3.googleusercontent.com/a-/AAuE7mD4y_wk6VNcvpy_XacxkTUQsAEltFCGwGJatYSr=s64",
      "userId": "18431496475692018632"
     },
     "user_tz": -360
    },
    "id": "PPY-k57mRuIy",
    "outputId": "d5c83473-4b22-45b5-ad19-0c5e045b732e"
   },
   "outputs": [
    {
     "data": {
      "image/png": "[encoded data removed]",
      "text/plain": [
       "<Figure size 432x288 with 1 Axes>"
      ]
     },
     "metadata": {
      "tags": []
     },
     "output_type": "display_data"
    }
   ],
   "source": [
    "learn.recorder.plot()"
   ]
  },
  {
   "cell_type": "code",
   "execution_count": 0,
   "metadata": {
    "colab": {},
    "colab_type": "code",
    "id": "X8Ks_II-SWFT"
   },
   "outputs": [],
   "source": [
    "from fastai.callbacks import SaveModelCallback, ReduceLROnPlateauCallback"
   ]
  },
  {
   "cell_type": "code",
   "execution_count": 39,
   "metadata": {
    "colab": {
     "base_uri": "https://localhost:8080/",
     "height": 289
    },
    "colab_type": "code",
    "executionInfo": {
     "elapsed": 18907600,
     "status": "ok",
     "timestamp": 1572317507464,
     "user": {
      "displayName": "Md. Hasan 1610023642",
      "photoUrl": "https://lh3.googleusercontent.com/a-/AAuE7mD4y_wk6VNcvpy_XacxkTUQsAEltFCGwGJatYSr=s64",
      "userId": "18431496475692018632"
     },
     "user_tz": -360
    },
    "id": "5GWOS6tFTDy6",
    "outputId": "4b4302eb-587a-4a49-fa58-4031222112c0"
   },
   "outputs": [
    {
     "data": {
      "text/html": [
       "<table border=\"1\" class=\"dataframe\">\n",
       "  <thead>\n",
       "    <tr style=\"text-align: left;\">\n",
       "      <th>epoch</th>\n",
       "      <th>train_loss</th>\n",
       "      <th>valid_loss</th>\n",
       "      <th>accuracy</th>\n",
       "      <th>time</th>\n",
       "    </tr>\n",
       "  </thead>\n",
       "  <tbody>\n",
       "    <tr>\n",
       "      <td>0</td>\n",
       "      <td>4.475798</td>\n",
       "      <td>4.337353</td>\n",
       "      <td>0.411287</td>\n",
       "      <td>1:02:46</td>\n",
       "    </tr>\n",
       "    <tr>\n",
       "      <td>1</td>\n",
       "      <td>4.051645</td>\n",
       "      <td>3.872150</td>\n",
       "      <td>0.438624</td>\n",
       "      <td>1:03:01</td>\n",
       "    </tr>\n",
       "    <tr>\n",
       "      <td>2</td>\n",
       "      <td>3.854661</td>\n",
       "      <td>3.692643</td>\n",
       "      <td>0.452441</td>\n",
       "      <td>1:03:00</td>\n",
       "    </tr>\n",
       "    <tr>\n",
       "      <td>3</td>\n",
       "      <td>3.725404</td>\n",
       "      <td>3.588373</td>\n",
       "      <td>0.462392</td>\n",
       "      <td>1:03:01</td>\n",
       "    </tr>\n",
       "    <tr>\n",
       "      <td>4</td>\n",
       "      <td>3.657039</td>\n",
       "      <td>3.557719</td>\n",
       "      <td>0.465646</td>\n",
       "      <td>1:03:04</td>\n",
       "    </tr>\n",
       "  </tbody>\n",
       "</table>"
      ],
      "text/plain": [
       "<IPython.core.display.HTML object>"
      ]
     },
     "metadata": {
      "tags": []
     },
     "output_type": "display_data"
    },
    {
     "name": "stdout",
     "output_type": "stream",
     "text": [
      "Better model found at epoch 0 with valid_loss value: 4.337353229522705.\n",
      "Better model found at epoch 1 with valid_loss value: 3.872149705886841.\n",
      "Better model found at epoch 2 with valid_loss value: 3.6926426887512207.\n",
      "Better model found at epoch 3 with valid_loss value: 3.5883731842041016.\n",
      "Better model found at epoch 4 with valid_loss value: 3.5577189922332764.\n"
     ]
    }
   ],
   "source": [
    "learn.fit_one_cycle(5, 2e-3, moms=(0.8, 0.7), callbacks=[SaveModelCallback(learn), ReduceLROnPlateauCallback(learn, factor=0.8)])"
   ]
  },
  {
   "cell_type": "code",
   "execution_count": 0,
   "metadata": {
    "colab": {},
    "colab_type": "code",
    "id": "t7Q0Z2E0TK1N"
   },
   "outputs": [],
   "source": [
    "learn.save(save_path+\"lm_5_ep_lr2-3\")\n",
    "learn.save_encoder(save_path+\"lm_5_ep_lr2-3_enc\")"
   ]
  },
  {
   "cell_type": "code",
   "execution_count": 41,
   "metadata": {
    "colab": {
     "base_uri": "https://localhost:8080/",
     "height": 34
    },
    "colab_type": "code",
    "executionInfo": {
     "elapsed": 18926716,
     "status": "ok",
     "timestamp": 1572317595116,
     "user": {
      "displayName": "Md. Hasan 1610023642",
      "photoUrl": "https://lh3.googleusercontent.com/a-/AAuE7mD4y_wk6VNcvpy_XacxkTUQsAEltFCGwGJatYSr=s64",
      "userId": "18431496475692018632"
     },
     "user_tz": -360
    },
    "id": "jThR0MEFTVtO",
    "outputId": "640a3b86-07c1-4ac0-a56d-93d60d47655a"
   },
   "outputs": [
    {
     "data": {
      "text/html": [],
      "text/plain": [
       "<IPython.core.display.HTML object>"
      ]
     },
     "metadata": {
      "tags": []
     },
     "output_type": "display_data"
    },
    {
     "name": "stdout",
     "output_type": "stream",
     "text": [
      "LR Finder is complete, type {learner_name}.recorder.plot() to see the graph.\n"
     ]
    }
   ],
   "source": [
    "learn.lr_find()"
   ]
  },
  {
   "cell_type": "code",
   "execution_count": 43,
   "metadata": {
    "colab": {
     "base_uri": "https://localhost:8080/",
     "height": 279
    },
    "colab_type": "code",
    "executionInfo": {
     "elapsed": 3388,
     "status": "ok",
     "timestamp": 1572324803695,
     "user": {
      "displayName": "Md. Hasan 1610023642",
      "photoUrl": "https://lh3.googleusercontent.com/a-/AAuE7mD4y_wk6VNcvpy_XacxkTUQsAEltFCGwGJatYSr=s64",
      "userId": "18431496475692018632"
     },
     "user_tz": -360
    },
    "id": "vaRWXmCmTbkM",
    "outputId": "3a775e1b-a720-4eb6-9524-54dffd45b30d"
   },
   "outputs": [
    {
     "data": {
      "image/png": "[encoded data removed]",
      "text/plain": [
       "<Figure size 432x288 with 1 Axes>"
      ]
     },
     "metadata": {
      "tags": []
     },
     "output_type": "display_data"
    }
   ],
   "source": [
    "learn.recorder.plot()"
   ]
  },
  {
   "cell_type": "code",
   "execution_count": 74,
   "metadata": {
    "colab": {
     "base_uri": "https://localhost:8080/",
     "height": 34
    },
    "colab_type": "code",
    "executionInfo": {
     "elapsed": 1837,
     "status": "ok",
     "timestamp": 1572330180243,
     "user": {
      "displayName": "Md. Hasan 1610023642",
      "photoUrl": "https://lh3.googleusercontent.com/a-/AAuE7mD4y_wk6VNcvpy_XacxkTUQsAEltFCGwGJatYSr=s64",
      "userId": "18431496475692018632"
     },
     "user_tz": -360
    },
    "id": "OP0KQTXHTqsI",
    "outputId": "4c2e2a2c-18e1-4b8f-c0a5-8afb1284c626"
   },
   "outputs": [
    {
     "data": {
      "text/plain": [
       "'বাংলাদেশের প্রধানমন্ত্রী শেখ হাসিনা লন্ডন সফর করেন xxbos কিন্তু দৈনন্দিন গুণগত বিশ্লেষণ বোঝাতে তারা এই ব্রত গ্রহণ'"
      ]
     },
     "execution_count": 74,
     "metadata": {
      "tags": []
     },
     "output_type": "execute_result"
    }
   ],
   "source": [
    "learn.predict(\"বাংলাদেশের প্রধানমন্ত্রী\" , 15)"
   ]
  },
  {
   "cell_type": "code",
   "execution_count": 54,
   "metadata": {
    "colab": {
     "base_uri": "https://localhost:8080/",
     "height": 279
    },
    "colab_type": "code",
    "executionInfo": {
     "elapsed": 1343,
     "status": "ok",
     "timestamp": 1572327507516,
     "user": {
      "displayName": "Md. Hasan 1610023642",
      "photoUrl": "https://lh3.googleusercontent.com/a-/AAuE7mD4y_wk6VNcvpy_XacxkTUQsAEltFCGwGJatYSr=s64",
      "userId": "18431496475692018632"
     },
     "user_tz": -360
    },
    "id": "ZCQmOpA58Sg_",
    "outputId": "2a311e4a-f78b-4902-ce5c-de0b16ea3941"
   },
   "outputs": [
    {
     "data": {
      "image/png": "[encoded data removed]",
      "text/plain": [
       "<Figure size 432x288 with 1 Axes>"
      ]
     },
     "metadata": {
      "tags": []
     },
     "output_type": "display_data"
    }
   ],
   "source": [
    "learn.recorder.learn.recorder.plot_losses()"
   ]
  },
  {
   "cell_type": "code",
   "execution_count": 57,
   "metadata": {
    "colab": {
     "base_uri": "https://localhost:8080/",
     "height": 34
    },
    "colab_type": "code",
    "executionInfo": {
     "elapsed": 1591,
     "status": "ok",
     "timestamp": 1572327862425,
     "user": {
      "displayName": "Md. Hasan 1610023642",
      "photoUrl": "https://lh3.googleusercontent.com/a-/AAuE7mD4y_wk6VNcvpy_XacxkTUQsAEltFCGwGJatYSr=s64",
      "userId": "18431496475692018632"
     },
     "user_tz": -360
    },
    "id": "szQlQDMrAwW5",
    "outputId": "3b936339-5ee2-4bf3-a81c-6c76ba9bc453"
   },
   "outputs": [
    {
     "data": {
      "text/plain": [
       "38.746444625890554"
      ]
     },
     "execution_count": 57,
     "metadata": {
      "tags": []
     },
     "output_type": "execute_result"
    }
   ],
   "source": [
    "model_ppl = np.exp(3.657039)\n",
    "model_ppl"
   ]
  },
  {
   "cell_type": "code",
   "execution_count": null,
   "metadata": {},
   "outputs": [],
   "source": []
  }
 ],
 "metadata": {
  "accelerator": "GPU",
  "colab": {
   "collapsed_sections": [],
   "name": "Untitled1.ipynb",
   "provenance": []
  },
  "kernelspec": {
   "display_name": "Python 3",
   "language": "python",
   "name": "python3"
  },
  "language_info": {
   "codemirror_mode": {
    "name": "ipython",
    "version": 3
   },
   "file_extension": ".py",
   "mimetype": "text/x-python",
   "name": "python",
   "nbconvert_exporter": "python",
   "pygments_lexer": "ipython3",
   "version": "3.6.8"
  }
 },
 "nbformat": 4,
 "nbformat_minor": 1
}
